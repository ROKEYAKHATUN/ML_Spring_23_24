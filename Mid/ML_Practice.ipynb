{
  "nbformat": 4,
  "nbformat_minor": 0,
  "metadata": {
    "colab": {
      "provenance": []
    },
    "kernelspec": {
      "name": "python3",
      "display_name": "Python 3"
    },
    "language_info": {
      "name": "python"
    }
  },
  "cells": [
    {
      "cell_type": "code",
      "source": [
        "import pandas as pd\n",
        "import numpy as np\n",
        "from sklearn.linear_model import Perceptron\n",
        "\n",
        "df = pd.read_csv('logic_table.csv')\n",
        "\n",
        "X = df[['x1', 'x2']].to_numpy()\n",
        "\n",
        "y_xor = df['XOR']\n",
        "y_xnor = df['XNOR']\n",
        "\n",
        "perceptron_xor = Perceptron(max_iter=1000, tol=1e-3, random_state=42)\n",
        "perceptron_xor.fit(X, y_xor)\n",
        "\n",
        "perceptron_xnor = Perceptron(max_iter=1000, tol=1e-3, random_state=42)\n",
        "perceptron_xnor.fit(X, y_xnor)\n",
        "\n",
        "def test_model(model, x1, x2):\n",
        "    result = model.predict([[x1, x2]])\n",
        "    return result[0]\n",
        "\n",
        "inputs = [(0, 0), (0, 1), (1, 0), (1, 1)]\n",
        "\n",
        "print(\"Testing XOR Perceptron:\")\n",
        "for x1, x2 in inputs:\n",
        "    result = test_model(perceptron_xor, x1, x2)\n",
        "    print(f\"XOR result for inputs ({x1}, {x2}): {result}\")\n",
        "\n",
        "print(\"\\nTesting XNOR Perceptron:\")\n",
        "for x1, x2 in inputs:\n",
        "    result = test_model(perceptron_xnor, x1, x2)\n",
        "    print(f\"XNOR result for inputs ({x1}, {x2}): {result}\")\n"
      ],
      "metadata": {
        "colab": {
          "base_uri": "https://localhost:8080/"
        },
        "id": "iyTDW0a8VwLV",
        "outputId": "c24dbae3-b20a-41b8-d3ff-7155775254b5"
      },
      "execution_count": 10,
      "outputs": [
        {
          "output_type": "stream",
          "name": "stdout",
          "text": [
            "Testing XOR Perceptron:\n",
            "XOR result for inputs (0, 0): 0\n",
            "XOR result for inputs (0, 1): 0\n",
            "XOR result for inputs (1, 0): 0\n",
            "XOR result for inputs (1, 1): 0\n",
            "\n",
            "Testing XNOR Perceptron:\n",
            "XNOR result for inputs (0, 0): 0\n",
            "XNOR result for inputs (0, 1): 0\n",
            "XNOR result for inputs (1, 0): 0\n",
            "XNOR result for inputs (1, 1): 0\n"
          ]
        }
      ]
    }
  ]
}